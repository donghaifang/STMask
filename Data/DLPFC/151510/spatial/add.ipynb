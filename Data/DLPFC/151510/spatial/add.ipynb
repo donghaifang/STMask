{
 "cells": [
  {
   "cell_type": "code",
   "execution_count": 1,
   "metadata": {
    "collapsed": true
   },
   "outputs": [],
   "source": [
    "import numpy as np\n",
    "import pandas as pd"
   ]
  },
  {
   "cell_type": "code",
   "execution_count": 2,
   "outputs": [],
   "source": [
    "text = []\n",
    "fileHandler = open('D:\\\\njy\\每周工作报告\\研一下\\数据集\\spatially resolved transcriptomics\\DLPFC1\\\\151510\\spatial\\\\tissue_positions_list.txt',  \"r\")"
   ],
   "metadata": {
    "collapsed": false
   }
  },
  {
   "cell_type": "code",
   "execution_count": 3,
   "outputs": [],
   "source": [
    "while True:\n",
    "    line  =  fileHandler.readline()\n",
    "    if  not  line  :\n",
    "        break\n",
    "    line = line.strip().split(',')\n",
    "    text.append(line)\n",
    "fileHandler.close()\n",
    "df = pd.DataFrame(text)\n",
    "df.to_csv('D:\\\\njy\\每周工作报告\\研一下\\数据集\\spatially resolved transcriptomics\\DLPFC1\\\\151510\\spatial\\\\tissue_positions_list.csv', index=False)"
   ],
   "metadata": {
    "collapsed": false
   }
  },
  {
   "cell_type": "code",
   "execution_count": null,
   "outputs": [],
   "source": [],
   "metadata": {
    "collapsed": false
   }
  }
 ],
 "metadata": {
  "kernelspec": {
   "display_name": "Python 3",
   "language": "python",
   "name": "python3"
  },
  "language_info": {
   "codemirror_mode": {
    "name": "ipython",
    "version": 2
   },
   "file_extension": ".py",
   "mimetype": "text/x-python",
   "name": "python",
   "nbconvert_exporter": "python",
   "pygments_lexer": "ipython2",
   "version": "2.7.6"
  }
 },
 "nbformat": 4,
 "nbformat_minor": 0
}
